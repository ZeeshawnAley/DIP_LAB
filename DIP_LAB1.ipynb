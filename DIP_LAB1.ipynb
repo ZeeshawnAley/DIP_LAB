{
 "cells": [
  {
   "cell_type": "code",
   "execution_count": 12,
   "id": "8c1029c6-355b-4e72-9a86-ecf7aa5b57a5",
   "metadata": {},
   "outputs": [
    {
     "name": "stdin",
     "output_type": "stream",
     "text": [
      "Enter the number of rows:  2\n",
      "Enter the number of columns:  2\n"
     ]
    },
    {
     "name": "stdout",
     "output_type": "stream",
     "text": [
      "Enter the entries for the first matrix:\n"
     ]
    },
    {
     "name": "stdin",
     "output_type": "stream",
     "text": [
      " 4 5\n",
      " 5 6\n"
     ]
    },
    {
     "name": "stdout",
     "output_type": "stream",
     "text": [
      "Enter the entries for the second matrix:\n"
     ]
    },
    {
     "name": "stdin",
     "output_type": "stream",
     "text": [
      " 7 8\n",
      " 3 4\n"
     ]
    },
    {
     "name": "stdout",
     "output_type": "stream",
     "text": [
      "Resultant Matrix:\n",
      "[[11 13]\n",
      " [ 8 10]]\n"
     ]
    }
   ],
   "source": [
    "#Code By Zeeshan Ali\n",
    "import numpy as np\n",
    "rows = int(input(\"Enter the number of rows: \"))\n",
    "cols = int(input(\"Enter the number of columns: \"))\n",
    "\n",
    "print(\"Enter the entries for the first matrix:\")\n",
    "matrix1= np.array([[int(x) for x in input().split()] for _ in range (rows)])\n",
    "\n",
    "print(\"Enter the entries for the second matrix:\")\n",
    "matrix2 = np.array([[int(x) for x in input().split()] for _ in range(rows)])\n",
    "result = matrix1 + matrix2\n",
    "\n",
    "print(\"Resultant Matrix:\")\n",
    "print(result)"
   ]
  },
  {
   "cell_type": "code",
   "execution_count": 28,
   "id": "6f5a7ff6-7467-4a2a-8a9f-426921f75ba7",
   "metadata": {},
   "outputs": [
    {
     "name": "stdin",
     "output_type": "stream",
     "text": [
      "Enter the number of rows for the first matrix:  2\n",
      "Enter the number of columns for the first matrix:  2\n"
     ]
    },
    {
     "name": "stdout",
     "output_type": "stream",
     "text": [
      "Enter the entries for the first matrix (row-wise):\n"
     ]
    },
    {
     "name": "stdin",
     "output_type": "stream",
     "text": [
      " 5 6\n",
      " 6 7\n",
      "Enter the number of rows for the second matrix:  2\n",
      "Enter the number of columns for the second matrix:  2\n"
     ]
    },
    {
     "name": "stdout",
     "output_type": "stream",
     "text": [
      "Enter the entries for the second matrix (row-wise):\n"
     ]
    },
    {
     "name": "stdin",
     "output_type": "stream",
     "text": [
      " 3 4\n",
      " 1 2\n"
     ]
    },
    {
     "name": "stdout",
     "output_type": "stream",
     "text": [
      "Resultant Matrix after multiplication:\n",
      "[[21 32]\n",
      " [25 38]]\n"
     ]
    }
   ],
   "source": [
    "import numpy as np\n",
    "rows1 = int(input(\"Enter the number of rows for the first matrix: \")) \n",
    "cols1 = int(input(\"Enter the number of columns for the first matrix: \"))\n",
    "print(\"Enter the entries for the first matrix (row-wise):\")\n",
    "\n",
    "matrix1 = np.array([[int(x) for x in input().split()] for _ in range(rows1)])\n",
    "rows2 = int(input(\"Enter the number of rows for the second matrix: \"))\n",
    "cols2 = int(input(\"Enter the number of columns for the second matrix: \"))\n",
    "\n",
    "if cols1 != rows2:\n",
    "    print(\"Not possible. The number of cols in 1st matrix must be equal to number of rows in 2nd matrix\")\n",
    "else:\n",
    "    print(\"Enter the entries for the second matrix (row-wise):\")\n",
    "    matrix2 = np.array([ [int(x) for x in input().split()] for _ in range(rows2)])\n",
    "    result = np.dot (matrix1, matrix2)\n",
    "    \n",
    "    print(\"Resultant Matrix after multiplication:\")\n",
    "    print(result)"
   ]
  },
  {
   "cell_type": "code",
   "execution_count": null,
   "id": "354c6aac-32ce-4286-9c9b-e32f606386ed",
   "metadata": {},
   "outputs": [],
   "source": []
  }
 ],
 "metadata": {
  "kernelspec": {
   "display_name": "Python 3 (ipykernel)",
   "language": "python",
   "name": "python3"
  },
  "language_info": {
   "codemirror_mode": {
    "name": "ipython",
    "version": 3
   },
   "file_extension": ".py",
   "mimetype": "text/x-python",
   "name": "python",
   "nbconvert_exporter": "python",
   "pygments_lexer": "ipython3",
   "version": "3.12.4"
  }
 },
 "nbformat": 4,
 "nbformat_minor": 5
}
